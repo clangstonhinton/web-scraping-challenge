{
 "cells": [
  {
   "cell_type": "code",
   "execution_count": null,
   "id": "10cc681c",
   "metadata": {},
   "outputs": [],
   "source": [
    "# Force install \n",
    "import subprocess\n",
    "import sys\n",
    "try:\n",
    "    import splinter\n",
    "except ImportError:\n",
    "    subprocess.check_call([sys.executable, '-m', 'pip', 'install', 'wesplinterbdriver_manager'])\n",
    "finally:\n",
    "    import splinter\n"
   ]
  },
  {
   "cell_type": "code",
   "execution_count": null,
   "id": "0d6f897f",
   "metadata": {},
   "outputs": [],
   "source": [
    "# Force install \n",
    "import subprocess\n",
    "import sys\n",
    "try:\n",
    "    import webdriver_manager\n",
    "except ImportError:\n",
    "    subprocess.check_call([sys.executable, '-m', 'conda', 'install', 'webdriver_manager'])\n",
    "finally:\n",
    "    import webdriver_manager\n",
    "    "
   ]
  }
 ],
 "metadata": {
  "kernelspec": {
   "display_name": "PythonData",
   "language": "python",
   "name": "pythondata"
  },
  "language_info": {
   "codemirror_mode": {
    "name": "ipython",
    "version": 3
   },
   "file_extension": ".py",
   "mimetype": "text/x-python",
   "name": "python",
   "nbconvert_exporter": "python",
   "pygments_lexer": "ipython3",
   "version": "3.7.13"
  }
 },
 "nbformat": 4,
 "nbformat_minor": 5
}
