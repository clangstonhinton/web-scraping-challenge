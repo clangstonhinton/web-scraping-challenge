{
 "cells": [
  {
   "cell_type": "markdown",
   "metadata": {},
   "source": [
    "# Module 12 Challenge\n",
    "## Deliverable 1: Scrape Titles and Preview Text from Mars News"
   ]
  },
  {
   "cell_type": "code",
   "execution_count": 23,
   "metadata": {},
   "outputs": [
    {
     "name": "stdout",
     "output_type": "stream",
     "text": [
      "Requirement already satisfied: selenium in /Users/charlissapayne/opt/anaconda3/lib/python3.9/site-packages (4.8.2)\n",
      "Requirement already satisfied: certifi>=2021.10.8 in /Users/charlissapayne/opt/anaconda3/lib/python3.9/site-packages (from selenium) (2022.12.7)\n",
      "Requirement already satisfied: trio~=0.17 in /Users/charlissapayne/opt/anaconda3/lib/python3.9/site-packages (from selenium) (0.22.0)\n",
      "Requirement already satisfied: urllib3[socks]~=1.26 in /Users/charlissapayne/opt/anaconda3/lib/python3.9/site-packages (from selenium) (1.26.14)\n",
      "Requirement already satisfied: trio-websocket~=0.9 in /Users/charlissapayne/opt/anaconda3/lib/python3.9/site-packages (from selenium) (0.9.2)\n",
      "Requirement already satisfied: async-generator>=1.9 in /Users/charlissapayne/opt/anaconda3/lib/python3.9/site-packages (from trio~=0.17->selenium) (1.10)\n",
      "Requirement already satisfied: sortedcontainers in /Users/charlissapayne/opt/anaconda3/lib/python3.9/site-packages (from trio~=0.17->selenium) (2.4.0)\n",
      "Requirement already satisfied: idna in /Users/charlissapayne/opt/anaconda3/lib/python3.9/site-packages (from trio~=0.17->selenium) (3.3)\n",
      "Requirement already satisfied: sniffio in /Users/charlissapayne/opt/anaconda3/lib/python3.9/site-packages (from trio~=0.17->selenium) (1.2.0)\n",
      "Requirement already satisfied: outcome in /Users/charlissapayne/opt/anaconda3/lib/python3.9/site-packages (from trio~=0.17->selenium) (1.2.0)\n",
      "Requirement already satisfied: attrs>=19.2.0 in /Users/charlissapayne/opt/anaconda3/lib/python3.9/site-packages (from trio~=0.17->selenium) (21.4.0)\n",
      "Requirement already satisfied: exceptiongroup>=1.0.0rc9 in /Users/charlissapayne/opt/anaconda3/lib/python3.9/site-packages (from trio~=0.17->selenium) (1.1.0)\n",
      "Requirement already satisfied: wsproto>=0.14 in /Users/charlissapayne/opt/anaconda3/lib/python3.9/site-packages (from trio-websocket~=0.9->selenium) (1.2.0)\n",
      "Requirement already satisfied: PySocks!=1.5.7,<2.0,>=1.5.6 in /Users/charlissapayne/opt/anaconda3/lib/python3.9/site-packages (from urllib3[socks]~=1.26->selenium) (1.7.1)\n",
      "Requirement already satisfied: h11<1,>=0.9.0 in /Users/charlissapayne/opt/anaconda3/lib/python3.9/site-packages (from wsproto>=0.14->trio-websocket~=0.9->selenium) (0.14.0)\n"
     ]
    }
   ],
   "source": [
    "!pip install selenium"
   ]
  },
  {
   "cell_type": "code",
   "execution_count": 22,
   "metadata": {},
   "outputs": [
    {
     "name": "stdout",
     "output_type": "stream",
     "text": [
      "Requirement already satisfied: splinter in /Users/charlissapayne/opt/anaconda3/lib/python3.9/site-packages (0.19.0)\r\n",
      "Requirement already satisfied: urllib3<2.0,>=1.26.14 in /Users/charlissapayne/opt/anaconda3/lib/python3.9/site-packages (from splinter) (1.26.14)\r\n"
     ]
    }
   ],
   "source": [
    "!pip install splinter"
   ]
  },
  {
   "cell_type": "code",
   "execution_count": 16,
   "metadata": {},
   "outputs": [
    {
     "name": "stdout",
     "output_type": "stream",
     "text": [
      "Requirement already satisfied: webdriver-manager in /Users/charlissapayne/opt/anaconda3/lib/python3.9/site-packages (3.8.5)\r\n",
      "Requirement already satisfied: requests in /Users/charlissapayne/opt/anaconda3/lib/python3.9/site-packages (from webdriver-manager) (2.28.1)\r\n",
      "Requirement already satisfied: tqdm in /Users/charlissapayne/opt/anaconda3/lib/python3.9/site-packages (from webdriver-manager) (4.64.1)\r\n",
      "Requirement already satisfied: python-dotenv in /Users/charlissapayne/opt/anaconda3/lib/python3.9/site-packages (from webdriver-manager) (1.0.0)\r\n",
      "Requirement already satisfied: packaging in /Users/charlissapayne/opt/anaconda3/lib/python3.9/site-packages (from webdriver-manager) (21.3)\r\n",
      "Requirement already satisfied: pyparsing!=3.0.5,>=2.0.2 in /Users/charlissapayne/opt/anaconda3/lib/python3.9/site-packages (from packaging->webdriver-manager) (3.0.9)\r\n",
      "Requirement already satisfied: certifi>=2017.4.17 in /Users/charlissapayne/opt/anaconda3/lib/python3.9/site-packages (from requests->webdriver-manager) (2022.12.7)\r\n",
      "Requirement already satisfied: idna<4,>=2.5 in /Users/charlissapayne/opt/anaconda3/lib/python3.9/site-packages (from requests->webdriver-manager) (3.3)\r\n",
      "Requirement already satisfied: urllib3<1.27,>=1.21.1 in /Users/charlissapayne/opt/anaconda3/lib/python3.9/site-packages (from requests->webdriver-manager) (1.26.14)\r\n",
      "Requirement already satisfied: charset-normalizer<3,>=2 in /Users/charlissapayne/opt/anaconda3/lib/python3.9/site-packages (from requests->webdriver-manager) (2.0.4)\r\n"
     ]
    }
   ],
   "source": [
    "!pip install webdriver-manager"
   ]
  },
  {
   "cell_type": "code",
   "execution_count": 32,
   "metadata": {},
   "outputs": [],
   "source": [
    "# Import dependencies\n",
    "\n",
    "from splinter import Browser\n",
    "from webdriver_manager.chrome import ChromeDriverManager\n",
    "from bs4 import BeautifulSoup as soup\n",
    "import requests\n",
    "import os\n",
    "import pandas as pd\n",
    "\n"
   ]
  },
  {
   "cell_type": "code",
   "execution_count": 21,
   "metadata": {},
   "outputs": [
    {
     "ename": "DriverNotFoundError",
     "evalue": "Driver for chrome was not found.",
     "output_type": "error",
     "traceback": [
      "\u001b[0;31m---------------------------------------------------------------------------\u001b[0m",
      "\u001b[0;31mDriverNotFoundError\u001b[0m                       Traceback (most recent call last)",
      "\u001b[0;32m/var/folders/kb/rb5nc0t515n7y9vftjt10s9h0000gn/T/ipykernel_899/638593853.py\u001b[0m in \u001b[0;36m<module>\u001b[0;34m\u001b[0m\n\u001b[1;32m      1\u001b[0m \u001b[0mexecutable_path\u001b[0m \u001b[0;34m=\u001b[0m \u001b[0;34m{\u001b[0m \u001b[0;34m'executable_path'\u001b[0m\u001b[0;34m:\u001b[0m \u001b[0mChromeDriverManager\u001b[0m\u001b[0;34m(\u001b[0m\u001b[0;34m)\u001b[0m\u001b[0;34m.\u001b[0m\u001b[0minstall\u001b[0m\u001b[0;34m(\u001b[0m\u001b[0;34m)\u001b[0m\u001b[0;34m}\u001b[0m\u001b[0;34m\u001b[0m\u001b[0;34m\u001b[0m\u001b[0m\n\u001b[0;32m----> 2\u001b[0;31m \u001b[0mbrowser\u001b[0m \u001b[0;34m=\u001b[0m \u001b[0mBrowser\u001b[0m\u001b[0;34m(\u001b[0m\u001b[0;34m'chrome'\u001b[0m\u001b[0;34m,\u001b[0m \u001b[0;34m**\u001b[0m\u001b[0mexecutable_path\u001b[0m\u001b[0;34m,\u001b[0m \u001b[0mheadless\u001b[0m\u001b[0;34m=\u001b[0m\u001b[0;32mFalse\u001b[0m\u001b[0;34m)\u001b[0m\u001b[0;34m\u001b[0m\u001b[0;34m\u001b[0m\u001b[0m\n\u001b[0m",
      "\u001b[0;32m~/opt/anaconda3/envs/PythonData/lib/python3.7/site-packages/splinter/browser.py\u001b[0m in \u001b[0;36mBrowser\u001b[0;34m(driver_name, retry_count, *args, **kwargs)\u001b[0m\n\u001b[1;32m    121\u001b[0m \u001b[0;34m\u001b[0m\u001b[0m\n\u001b[1;32m    122\u001b[0m     \u001b[0;32mif\u001b[0m \u001b[0mdriver\u001b[0m \u001b[0;32mis\u001b[0m \u001b[0;32mNone\u001b[0m\u001b[0;34m:\u001b[0m\u001b[0;34m\u001b[0m\u001b[0;34m\u001b[0m\u001b[0m\n\u001b[0;32m--> 123\u001b[0;31m         \u001b[0;32mraise\u001b[0m \u001b[0mDriverNotFoundError\u001b[0m\u001b[0;34m(\u001b[0m\u001b[0;34mf'Driver for {driver_name} was not found.'\u001b[0m\u001b[0;34m)\u001b[0m\u001b[0;34m\u001b[0m\u001b[0;34m\u001b[0m\u001b[0m\n\u001b[0m\u001b[1;32m    124\u001b[0m \u001b[0;34m\u001b[0m\u001b[0m\n\u001b[1;32m    125\u001b[0m     \u001b[0;32mreturn\u001b[0m \u001b[0mget_driver\u001b[0m\u001b[0;34m(\u001b[0m\u001b[0mdriver\u001b[0m\u001b[0;34m,\u001b[0m \u001b[0mretry_count\u001b[0m\u001b[0;34m=\u001b[0m\u001b[0mretry_count\u001b[0m\u001b[0;34m,\u001b[0m \u001b[0;34m*\u001b[0m\u001b[0margs\u001b[0m\u001b[0;34m,\u001b[0m \u001b[0;34m**\u001b[0m\u001b[0mkwargs\u001b[0m\u001b[0;34m)\u001b[0m\u001b[0;34m\u001b[0m\u001b[0;34m\u001b[0m\u001b[0m\n",
      "\u001b[0;31mDriverNotFoundError\u001b[0m: Driver for chrome was not found."
     ]
    }
   ],
   "source": [
    "executable_path = { 'executable_path': ChromeDriverManager().install()}\n",
    "browser = Browser('chrome', **executable_path, headless=False)"
   ]
  },
  {
   "cell_type": "code",
   "execution_count": 24,
   "metadata": {},
   "outputs": [],
   "source": [
    "# URL of page to be scraped\n",
    "url = 'https://redplanetscience.com'\n"
   ]
  },
  {
   "cell_type": "code",
   "execution_count": 25,
   "metadata": {},
   "outputs": [
    {
     "data": {
      "text/plain": [
       "<Response [200]>"
      ]
     },
     "execution_count": 25,
     "metadata": {},
     "output_type": "execute_result"
    }
   ],
   "source": [
    "# Retrieve page with the requests module\n",
    "response = requests.get(url)\n",
    "response"
   ]
  },
  {
   "cell_type": "code",
   "execution_count": 28,
   "metadata": {},
   "outputs": [],
   "source": [
    "# Create BeautifulSoup object; parse with 'lxml'\n",
    "soup = soup(response.text, 'lxml')\n"
   ]
  },
  {
   "cell_type": "code",
   "execution_count": 17,
   "metadata": {},
   "outputs": [
    {
     "name": "stdout",
     "output_type": "stream",
     "text": [
      "<?xml version=\"1.0\" encoding=\"utf-8\"?>\n",
      "<!DOCTYPE html>\n",
      "<html>\n",
      " <head>\n",
      "  <meta charset=\"utf-8\">\n",
      "   <meta content=\"width=device-width, initial-scale=1\" name=\"viewport\">\n",
      "    <link crossorigin=\"anonymous\" href=\"https://cdn.jsdelivr.net/npm/bootstrap@5.0.0-beta1/dist/css/bootstrap.min.css\" integrity=\"sha384-giJF6kkoqNQ00vy+HMDP7azOuL0xtbfIcaT9wjKHr8RbDVddVHyTfAAsrekwKmP1\" rel=\"stylesheet\">\n",
      "     <link href=\"css/font.css\" rel=\"stylesheet\" type=\"text/css\">\n",
      "      <link href=\"css/app.css\" rel=\"stylesheet\" type=\"text/css\">\n",
      "       <link crossorigin=\"anonymous\" href=\"https://pro.fontawesome.com/releases/v5.10.0/css/all.css\" integrity=\"sha384-AYmEC3Yw5cVb3ZcuHtOA93w35dYTsvhLPVnYs9eStHfGJvOvKxVfELGroGkvsg+p\" rel=\"stylesheet\"/>\n",
      "       <title>\n",
      "        News - Mars Exploration Program\n",
      "       </title>\n",
      "      </link>\n",
      "      <body>\n",
      "       <div class=\"col-md-12\">\n",
      "        <div class=\"row\">\n",
      "         <nav class=\"navbar navbar-expand-lg navbar-light fixed-top\">\n",
      "          <div class=\"container-fluid\">\n",
      "           <a class=\"navbar-brand\" href=\"#\">\n",
      "            <img src=\"image/nasa.png\" width=\"80\">\n",
      "             <span class=\"logo\">\n",
      "              MARS Planet Science\n",
      "             </span>\n",
      "             <span class=\"logo1\">\n",
      "              Exploration Program\n",
      "             </span>\n",
      "            </img>\n",
      "            <button aria-controls=\"navbarNav\" aria-expanded=\"false\" aria-label=\"Toggle navigation\" class=\"navbar-toggler\" data-bs-target=\"#navbarNav\" data-bs-toggle=\"collapse\" type=\"button\">\n",
      "             <span class=\"navbar-toggler-icon\"/>\n",
      "            </button>\n",
      "            <div class=\"collapse navbar-collapse justify-content-end\" id=\"navbarNav\">\n",
      "             <ul class=\"navbar-nav\">\n",
      "              <li class=\"nav-item\">\n",
      "               <a aria-current=\"page\" class=\"nav-link active\" href=\"#\">\n",
      "                The Red Planet\n",
      "               </a>\n",
      "              </li>\n",
      "              <li class=\"nav-item\">\n",
      "               <a class=\"nav-link\" href=\"#\">\n",
      "                The Program\n",
      "               </a>\n",
      "              </li>\n",
      "              <li class=\"nav-item\">\n",
      "               <a class=\"nav-link\" href=\"#\">\n",
      "                News  Events\n",
      "               </a>\n",
      "              </li>\n",
      "              <li class=\"nav-item\">\n",
      "               <a class=\"nav-link\" href=\"#\">\n",
      "                Multimedia\n",
      "               </a>\n",
      "              </li>\n",
      "              <li class=\"nav-item\">\n",
      "               <a class=\"nav-link\" href=\"#\">\n",
      "                Missions\n",
      "               </a>\n",
      "              </li>\n",
      "              <li class=\"nav-item\">\n",
      "               <a class=\"nav-link\" href=\"#\">\n",
      "                More\n",
      "               </a>\n",
      "              </li>\n",
      "              <li class=\"nav-item nav_search\">\n",
      "               <a class=\"nav-link \" href=\"#\"/>\n",
      "              </li>\n",
      "             </ul>\n",
      "            </div>\n",
      "           </a>\n",
      "          </div>\n",
      "          <section class=\"search\">\n",
      "           <div class=\"container\">\n",
      "            <h1>\n",
      "             News\n",
      "            </h1>\n",
      "            <div class=\"col-md-12 filter\">\n",
      "             <div class=\"row\">\n",
      "              <div class=\"col-md-3 search_binder\">\n",
      "               <input class=\"search_field\" name=\"search\" type=\"text\">\n",
      "                <input class=\"search_submit\" name=\"search\" type=\"text\">\n",
      "                </input>\n",
      "                <div class=\"col-md-3\">\n",
      "                 <select aria-label=\"Default select example\" class=\"form-select \" id=\"year\">\n",
      "                  <option>\n",
      "                   Latest\n",
      "                  </option>\n",
      "                 </select>\n",
      "                </div>\n",
      "                <div class=\"col-md-3\">\n",
      "                 <select aria-label=\"Default select example\" class=\"form-select \" id=\"cat\">\n",
      "                  <option>\n",
      "                   All Categories\n",
      "                  </option>\n",
      "                 </select>\n",
      "                </div>\n",
      "                <div class=\"col-md-3\">\n",
      "                </div>\n",
      "               </input>\n",
      "              </div>\n",
      "             </div>\n",
      "            </div>\n",
      "            <section class=\"image_and_description_container\">\n",
      "             <div class=\"container \" id=\"news\">\n",
      "             </div>\n",
      "             <hr class=\"container\" style=\"margin: 25px auto;width: 83%;\">\n",
      "              <button class=\"btn disable\" id=\"more\" onclick=\"populateContent()\">\n",
      "               More\n",
      "              </button>\n",
      "             </hr>\n",
      "             <section class=\"last_news\">\n",
      "              <div class=\"container\">\n",
      "               <div class=\"row\">\n",
      "                <div class=\"col-12\">\n",
      "                 <h2>\n",
      "                  You Might Also Like\n",
      "                 </h2>\n",
      "                </div>\n",
      "                <!--  <a class=\" prev\" href=\"#carouselExampleIndicators2\" role=\"button\" data-slide=\"prev\">\n",
      "                  <i class=\"fas fa-angle-left\"></i>\n",
      "                  </a>\n",
      "                  <a class=\" next\" href=\"#carouselExampleIndicators2\" role=\"button\" data-slide=\"next\">\n",
      "                  <i class=\"fas fa-angle-right\"></i>\n",
      "                  </a> -->\n",
      "                <div class=\"col-12\">\n",
      "                 <div class=\"carousel slide\" data-ride=\"carousel\" id=\"carouselExampleIndicators2\">\n",
      "                  <div class=\"carousel-inner\">\n",
      "                   <div class=\"carousel-item active\">\n",
      "                    <div class=\"row\">\n",
      "                     <div class=\"col-md-4 mb-3\">\n",
      "                      <div class=\"card\">\n",
      "                       <img alt=\"100%x280\" class=\"img-fluid\" src=\"https://mars.nasa.gov/system/news_items/main_images/8716_PIA23499-16.jpg\">\n",
      "                        <div class=\"card-body\">\n",
      "                         <p class=\"card-text\">\n",
      "                          NASA to Broadcast Mars 2020 Perseverance Launch, Prelaunch Activities\n",
      "                         </p>\n",
      "                        </div>\n",
      "                       </img>\n",
      "                      </div>\n",
      "                      <div class=\"col-md-4 mb-3\">\n",
      "                       <div class=\"card\">\n",
      "                        <img alt=\"100%x280\" class=\"img-fluid\" src=\"https://mars.nasa.gov/system/news_items/main_images/8716_PIA23499-16.jpg\">\n",
      "                         <div class=\"card-body\">\n",
      "                          <p class=\"card-text\">\n",
      "                           The Launch Is Approaching for NASA's Next Mars Rover, Perseverance\n",
      "                          </p>\n",
      "                         </div>\n",
      "                        </img>\n",
      "                       </div>\n",
      "                       <div class=\"col-md-4 mb-3\">\n",
      "                        <div class=\"card\">\n",
      "                         <img alt=\"100%x280\" class=\"img-fluid\" src=\"https://mars.nasa.gov/system/news_items/main_images/8692_PIA23920-web.jpg\">\n",
      "                          <div class=\"card-body\">\n",
      "                           <p class=\"card-text\">\n",
      "                            NASA to Hold Mars 2020 Perseverance Rover Launch Briefing\n",
      "                           </p>\n",
      "                          </div>\n",
      "                         </img>\n",
      "                        </div>\n",
      "                       </div>\n",
      "                      </div>\n",
      "                      <div class=\"carousel-item\">\n",
      "                       <div class=\"row\">\n",
      "                        <div class=\"col-md-4 mb-3\">\n",
      "                         <div class=\"card\">\n",
      "                          <img alt=\"100%x280\" class=\"img-fluid\" src=\"https://images.unsplash.com/photo-1532771098148-525cefe10c23?ixlib=rb-0.3.5&amp;q=80&amp;fm=jpg&amp;crop=entropy&amp;cs=tinysrgb&amp;w=1080&amp;fit=max&amp;ixid=eyJhcHBfaWQiOjMyMDc0fQ&amp;s=3f317c1f7a16116dec454fbc267dd8e4\">\n",
      "                           <div class=\"card-body\">\n",
      "                            <p class=\"card-text\">\n",
      "                             With supporting text below as a natural lead-in to additional content.\n",
      "                            </p>\n",
      "                           </div>\n",
      "                          </img>\n",
      "                         </div>\n",
      "                         <div class=\"col-md-4 mb-3\">\n",
      "                          <div class=\"card\">\n",
      "                           <img alt=\"100%x280\" class=\"img-fluid\" src=\"https://images.unsplash.com/photo-1532715088550-62f09305f765?ixlib=rb-0.3.5&amp;q=80&amp;fm=jpg&amp;crop=entropy&amp;cs=tinysrgb&amp;w=1080&amp;fit=max&amp;ixid=eyJhcHBfaWQiOjMyMDc0fQ&amp;s=ebadb044b374504ef8e81bdec4d0e840\">\n",
      "                            <div class=\"card-body\">\n",
      "                             <p class=\"card-text\">\n",
      "                              With supporting text below as a natural lead-in to additional content.\n",
      "                             </p>\n",
      "                            </div>\n",
      "                           </img>\n",
      "                          </div>\n",
      "                          <div class=\"col-md-4 mb-3\">\n",
      "                           <div class=\"card\">\n",
      "                            <img alt=\"100%x280\" class=\"img-fluid\" src=\"https://images.unsplash.com/photo-1506197603052-3cc9c3a201bd?ixlib=rb-0.3.5&amp;q=80&amp;fm=jpg&amp;crop=entropy&amp;cs=tinysrgb&amp;w=1080&amp;fit=max&amp;ixid=eyJhcHBfaWQiOjMyMDc0fQ&amp;s=0754ab085804ae8a3b562548e6b4aa2e\">\n",
      "                             <div class=\"card-body\">\n",
      "                              <p class=\"card-text\">\n",
      "                               With supporting text below as a natural lead-in to additional content.\n",
      "                              </p>\n",
      "                             </div>\n",
      "                            </img>\n",
      "                           </div>\n",
      "                          </div>\n",
      "                         </div>\n",
      "                         <div class=\"carousel-item\">\n",
      "                          <div class=\"row\">\n",
      "                           <div class=\"col-md-4 mb-3\">\n",
      "                            <div class=\"card\">\n",
      "                             <img alt=\"100%x280\" class=\"img-fluid\" src=\"https://images.unsplash.com/photo-1507525428034-b723cf961d3e?ixlib=rb-0.3.5&amp;q=80&amp;fm=jpg&amp;crop=entropy&amp;cs=tinysrgb&amp;w=1080&amp;fit=max&amp;ixid=eyJhcHBfaWQiOjMyMDc0fQ&amp;s=ee8417f0ea2a50d53a12665820b54e23\">\n",
      "                              <div class=\"card-body\">\n",
      "                               <p class=\"card-text\">\n",
      "                                With supporting text below as a natural lead-in to additional content.\n",
      "                               </p>\n",
      "                              </div>\n",
      "                             </img>\n",
      "                            </div>\n",
      "                            <div class=\"col-md-4 mb-3\">\n",
      "                             <div class=\"card\">\n",
      "                              <img alt=\"100%x280\" class=\"img-fluid\" src=\"https://images.unsplash.com/photo-1532777946373-b6783242f211?ixlib=rb-0.3.5&amp;q=80&amp;fm=jpg&amp;crop=entropy&amp;cs=tinysrgb&amp;w=1080&amp;fit=max&amp;ixid=eyJhcHBfaWQiOjMyMDc0fQ&amp;s=8ac55cf3a68785643998730839663129\">\n",
      "                               <div class=\"card-body\">\n",
      "                                <p class=\"card-text\">\n",
      "                                 With supporting text below as a natural lead-in to additional content.\n",
      "                                </p>\n",
      "                               </div>\n",
      "                              </img>\n",
      "                             </div>\n",
      "                             <div class=\"col-md-4 mb-3\">\n",
      "                              <div class=\"card\">\n",
      "                               <img alt=\"100%x280\" class=\"img-fluid\" src=\"https://images.unsplash.com/photo-1532763303805-529d595877c5?ixlib=rb-0.3.5&amp;q=80&amp;fm=jpg&amp;crop=entropy&amp;cs=tinysrgb&amp;w=1080&amp;fit=max&amp;ixid=eyJhcHBfaWQiOjMyMDc0fQ&amp;s=5ee4fd5d19b40f93eadb21871757eda6\">\n",
      "                                <div class=\"card-body\">\n",
      "                                 <p class=\"card-text\">\n",
      "                                  With supporting text below as a natural lead-in to additional content.\n",
      "                                 </p>\n",
      "                                </div>\n",
      "                               </img>\n",
      "                              </div>\n",
      "                             </div>\n",
      "                            </div>\n",
      "                           </div>\n",
      "                          </div>\n",
      "                         </div>\n",
      "                        </div>\n",
      "                       </div>\n",
      "                      </div>\n",
      "                      <section class=\"footer\">\n",
      "                       <div class=\"container\">\n",
      "                        <div class=\"col-md-12\">\n",
      "                         <div class=\"row\">\n",
      "                          <div class=\"col-md-3\">\n",
      "                           <h5>\n",
      "                            The Red Planet\n",
      "                           </h5>\n",
      "                           <ul>\n",
      "                            <li>\n",
      "                             Dashboard\n",
      "                            </li>\n",
      "                            <li>\n",
      "                             Science Goals\n",
      "                            </li>\n",
      "                            <li>\n",
      "                             The Planet\n",
      "                            </li>\n",
      "                           </ul>\n",
      "                          </div>\n",
      "                          <div class=\"col-md-3\">\n",
      "                           <h5>\n",
      "                            The Program\n",
      "                           </h5>\n",
      "                           <ul>\n",
      "                            <li>\n",
      "                             Mission Statement\n",
      "                            </li>\n",
      "                            <li>\n",
      "                             About the Program\n",
      "                            </li>\n",
      "                            <li>\n",
      "                             Organization Why Mars?\n",
      "                            </li>\n",
      "                           </ul>\n",
      "                          </div>\n",
      "                          <div class=\"col-md-3\">\n",
      "                           <h5>\n",
      "                            Multimedia\n",
      "                           </h5>\n",
      "                           <ul>\n",
      "                            <li>\n",
      "                             Images\n",
      "                            </li>\n",
      "                            <li>\n",
      "                             Videos\n",
      "                            </li>\n",
      "                            <li>\n",
      "                             More Resources\n",
      "                            </li>\n",
      "                           </ul>\n",
      "                          </div>\n",
      "                          <div class=\"col-md-3\">\n",
      "                           <h5>\n",
      "                            Missions\n",
      "                           </h5>\n",
      "                           <ul>\n",
      "                            <li>\n",
      "                             Past\n",
      "                            </li>\n",
      "                            <li>\n",
      "                             Present\n",
      "                            </li>\n",
      "                            <li>\n",
      "                             Future\n",
      "                            </li>\n",
      "                           </ul>\n",
      "                          </div>\n",
      "                         </div>\n",
      "                        </div>\n",
      "                       </div>\n",
      "                      </section>\n",
      "                      <script src=\"https://code.jquery.com/jquery-1.12.4.min.js\" type=\"text/javascript\"/>\n",
      "                      <script src=\"https://cdn.jsdelivr.net/npm/@popperjs/core@2.5.4/dist/umd/popper.min.js\"/>\n",
      "                      <script src=\"https://cdn.jsdelivr.net/npm/bootstrap@5.0.0-beta1/dist/js/bootstrap.min.js\"/>\n",
      "                      <script src=\"js/app.js\"/>\n",
      "                     </div>\n",
      "                    </div>\n",
      "                   </div>\n",
      "                  </div>\n",
      "                 </div>\n",
      "                </div>\n",
      "               </div>\n",
      "              </div>\n",
      "             </section>\n",
      "            </section>\n",
      "           </div>\n",
      "          </section>\n",
      "         </nav>\n",
      "        </div>\n",
      "       </div>\n",
      "      </body>\n",
      "     </link>\n",
      "    </link>\n",
      "   </meta>\n",
      "  </meta>\n",
      " </head>\n",
      "</html>\n"
     ]
    }
   ],
   "source": [
    "# Examine the results, then determine element that contains sought info\n",
    "print(soup.prettify())"
   ]
  },
  {
   "cell_type": "markdown",
   "metadata": {},
   "source": [
    "### Scrape the Website\n",
    "\n",
    "Create a Beautiful Soup object and use it to extract the latest News Title and Paragraph Text.  Assign the text to variables that you can reference later\n"
   ]
  },
  {
   "cell_type": "code",
   "execution_count": 30,
   "metadata": {},
   "outputs": [
    {
     "name": "stdout",
     "output_type": "stream",
     "text": [
      "Latest News Title: NASA to Broadcast Mars 2020 Perseverance Launch, Prelaunch Activities\n"
     ]
    }
   ],
   "source": [
    "# Extract the latest News Title and Paragraph text FROM SOUP HTML ABOVE\n",
    "\n",
    "# Scrape the Mars News Site, collect the latest News Title and Paragraph Text and save it in a variable\n",
    "article_1 = soup.find_all('p', class_='card-text')[0].text\n",
    "\n",
    "# ARTICLE TEST DOES NOT EXIST IN SOUP HTML TEST ABOVE\n",
    "# text_1 = soup.find_all('div', class_='article_teaser_body')[0].text\n",
    "\n",
    "\n",
    "# Print the latest New Title and Paragraph\n",
    "print(f'Latest News Title: {article_1}')\n",
    "\n",
    "# print('\\n-----------------\\n')\n",
    "# print(f'Latest News Paragraph Text: {text}')"
   ]
  },
  {
   "cell_type": "code",
   "execution_count": 31,
   "metadata": {},
   "outputs": [
    {
     "ename": "IndexError",
     "evalue": "list index out of range",
     "output_type": "error",
     "traceback": [
      "\u001b[0;31m---------------------------------------------------------------------------\u001b[0m",
      "\u001b[0;31mIndexError\u001b[0m                                Traceback (most recent call last)",
      "\u001b[0;32m/var/folders/kb/rb5nc0t515n7y9vftjt10s9h0000gn/T/ipykernel_899/1411922165.py\u001b[0m in \u001b[0;36m<module>\u001b[0;34m\u001b[0m\n\u001b[1;32m      2\u001b[0m \u001b[0;34m\u001b[0m\u001b[0m\n\u001b[1;32m      3\u001b[0m \u001b[0;31m# Scrape the Mars News Site, collect the latest News Title and Paragraph Text and save it in a variable\u001b[0m\u001b[0;34m\u001b[0m\u001b[0;34m\u001b[0m\u001b[0;34m\u001b[0m\u001b[0m\n\u001b[0;32m----> 4\u001b[0;31m \u001b[0marticle\u001b[0m \u001b[0;34m=\u001b[0m \u001b[0msoup\u001b[0m\u001b[0;34m.\u001b[0m\u001b[0mfind_all\u001b[0m\u001b[0;34m(\u001b[0m\u001b[0;34m'div'\u001b[0m\u001b[0;34m,\u001b[0m \u001b[0mclass_\u001b[0m\u001b[0;34m=\u001b[0m\u001b[0;34m'content_title'\u001b[0m\u001b[0;34m)\u001b[0m\u001b[0;34m[\u001b[0m\u001b[0;36m0\u001b[0m\u001b[0;34m]\u001b[0m\u001b[0;34m.\u001b[0m\u001b[0mtext\u001b[0m\u001b[0;34m\u001b[0m\u001b[0;34m\u001b[0m\u001b[0m\n\u001b[0m\u001b[1;32m      5\u001b[0m \u001b[0mtext\u001b[0m \u001b[0;34m=\u001b[0m \u001b[0msoup\u001b[0m\u001b[0;34m.\u001b[0m\u001b[0mfind_all\u001b[0m\u001b[0;34m(\u001b[0m\u001b[0;34m'div'\u001b[0m\u001b[0;34m,\u001b[0m \u001b[0mclass_\u001b[0m\u001b[0;34m=\u001b[0m\u001b[0;34m'article_teaser_body'\u001b[0m\u001b[0;34m)\u001b[0m\u001b[0;34m[\u001b[0m\u001b[0;36m0\u001b[0m\u001b[0;34m]\u001b[0m\u001b[0;34m.\u001b[0m\u001b[0mtext\u001b[0m\u001b[0;34m\u001b[0m\u001b[0;34m\u001b[0m\u001b[0m\n\u001b[1;32m      6\u001b[0m \u001b[0;34m\u001b[0m\u001b[0m\n",
      "\u001b[0;31mIndexError\u001b[0m: list index out of range"
     ]
    }
   ],
   "source": [
    "# Extract the latest News Title and Paragraph text\n",
    "\n",
    "news_title = soup.find_all('div', class_='content_title')[0].text\n",
    "news_text = soup.find_all('div', class_='article_teaser_body')[0].text\n",
    "\n",
    "# Print the latest New Title and Paragraph\n",
    "print(f'Latest News Article: {news_title}')\n",
    "print('\\n-----------------\\n')\n",
    "print(f'Latest News Article Text: {news_text}')"
   ]
  },
  {
   "cell_type": "markdown",
   "metadata": {},
   "source": [
    "### JPL Mars Space Images - Featured Image\n",
    "\n",
    "* Visit the url for the Featured Space Image site [here](https://spaceimages-mars.com).\n",
    "\n",
    "* Use splinter to navigate the site and find the image url for the current Featured Mars Image and assign the url string to a variable called `featured_image_url`.\n",
    "\n",
    "* Make sure to find the image url to the full size `.jpg` image.\n",
    "\n",
    "* Make sure to save a complete url string for this image.\n",
    "\n",
    "```python\n",
    "# Example:\n",
    "featured_image_url = 'https://spaceimages-mars.com/image/featured/mars2.jpg'\n",
    "```\n"
   ]
  },
  {
   "cell_type": "code",
   "execution_count": 123,
   "metadata": {},
   "outputs": [],
   "source": [
    "# URL of page to be scraped\n",
    "url = 'https://spaceimages-mars.com/'"
   ]
  },
  {
   "cell_type": "code",
   "execution_count": 124,
   "metadata": {},
   "outputs": [
    {
     "data": {
      "text/plain": [
       "<Response [200]>"
      ]
     },
     "execution_count": 124,
     "metadata": {},
     "output_type": "execute_result"
    }
   ],
   "source": [
    "# Retrieve page with the requests module\n",
    "response = requests.get(url)\n",
    "response"
   ]
  },
  {
   "cell_type": "code",
   "execution_count": 125,
   "metadata": {},
   "outputs": [],
   "source": [
    "# Create BeautifulSoup object; parse with 'lxml'\n",
    "soup = soup(response.text, 'lxml')\n"
   ]
  },
  {
   "cell_type": "code",
   "execution_count": 115,
   "metadata": {},
   "outputs": [
    {
     "ename": "AttributeError",
     "evalue": "ResultSet object has no attribute 'find_all'. You're probably treating a list of elements like a single element. Did you call find_all() when you meant to call find()?",
     "output_type": "error",
     "traceback": [
      "\u001b[0;31m---------------------------------------------------------------------------\u001b[0m",
      "\u001b[0;31mAttributeError\u001b[0m                            Traceback (most recent call last)",
      "\u001b[0;32m/var/folders/kb/rb5nc0t515n7y9vftjt10s9h0000gn/T/ipykernel_899/1282442875.py\u001b[0m in \u001b[0;36m<module>\u001b[0;34m\u001b[0m\n\u001b[1;32m      1\u001b[0m \u001b[0mquery\u001b[0m \u001b[0;34m=\u001b[0m \u001b[0msoup\u001b[0m\u001b[0;34m.\u001b[0m\u001b[0mfind_all\u001b[0m\u001b[0;34m(\u001b[0m\u001b[0;34m'a'\u001b[0m\u001b[0;34m,\u001b[0m \u001b[0mclass_\u001b[0m\u001b[0;34m=\u001b[0m\u001b[0;34m'showimg fancybox-thumbs'\u001b[0m\u001b[0;34m)\u001b[0m\u001b[0;34m\u001b[0m\u001b[0;34m\u001b[0m\u001b[0m\n\u001b[0;32m----> 2\u001b[0;31m \u001b[0mrelative_image_path\u001b[0m \u001b[0;34m=\u001b[0m \u001b[0mquery\u001b[0m\u001b[0;34m.\u001b[0m\u001b[0mfind_all\u001b[0m\u001b[0;34m(\u001b[0m\u001b[0;34m'href'\u001b[0m\u001b[0;34m)\u001b[0m\u001b[0;34m\u001b[0m\u001b[0;34m\u001b[0m\u001b[0m\n\u001b[0m\u001b[1;32m      3\u001b[0m \u001b[0mfeatured_image_url\u001b[0m \u001b[0;34m=\u001b[0m \u001b[0murl\u001b[0m \u001b[0;34m+\u001b[0m \u001b[0mrelative_image_path\u001b[0m\u001b[0;34m\u001b[0m\u001b[0;34m\u001b[0m\u001b[0m\n\u001b[1;32m      4\u001b[0m \u001b[0mprint\u001b[0m\u001b[0;34m(\u001b[0m\u001b[0mfeatured_image_url\u001b[0m\u001b[0;34m)\u001b[0m\u001b[0;34m\u001b[0m\u001b[0;34m\u001b[0m\u001b[0m\n",
      "\u001b[0;32m~/opt/anaconda3/envs/PythonData/lib/python3.7/site-packages/bs4/element.py\u001b[0m in \u001b[0;36m__getattr__\u001b[0;34m(self, key)\u001b[0m\n\u001b[1;32m   2288\u001b[0m         \u001b[0;34m\"\"\"Raise a helpful exception to explain a common code fix.\"\"\"\u001b[0m\u001b[0;34m\u001b[0m\u001b[0;34m\u001b[0m\u001b[0m\n\u001b[1;32m   2289\u001b[0m         raise AttributeError(\n\u001b[0;32m-> 2290\u001b[0;31m             \u001b[0;34m\"ResultSet object has no attribute '%s'. You're probably treating a list of elements like a single element. Did you call find_all() when you meant to call find()?\"\u001b[0m \u001b[0;34m%\u001b[0m \u001b[0mkey\u001b[0m\u001b[0;34m\u001b[0m\u001b[0;34m\u001b[0m\u001b[0m\n\u001b[0m\u001b[1;32m   2291\u001b[0m         )\n",
      "\u001b[0;31mAttributeError\u001b[0m: ResultSet object has no attribute 'find_all'. You're probably treating a list of elements like a single element. Did you call find_all() when you meant to call find()?"
     ]
    }
   ],
   "source": [
    "query = soup.find_all('a', class_='showimg fancybox-thumbs')\n",
    "relative_image_path = query.find_all('href')\n",
    "featured_image_url = url + relative_image_path\n",
    "print(featured_image_url)   \n"
   ]
  },
  {
   "cell_type": "code",
   "execution_count": 127,
   "metadata": {},
   "outputs": [
    {
     "ename": "AttributeError",
     "evalue": "ResultSet object has no attribute 'find_all'. You're probably treating a list of elements like a single element. Did you call find_all() when you meant to call find()?",
     "output_type": "error",
     "traceback": [
      "\u001b[0;31m---------------------------------------------------------------------------\u001b[0m",
      "\u001b[0;31mAttributeError\u001b[0m                            Traceback (most recent call last)",
      "\u001b[0;32m/var/folders/kb/rb5nc0t515n7y9vftjt10s9h0000gn/T/ipykernel_899/3570199605.py\u001b[0m in \u001b[0;36m<module>\u001b[0;34m\u001b[0m\n\u001b[0;32m----> 1\u001b[0;31m \u001b[0mrelative_image_path\u001b[0m \u001b[0;34m=\u001b[0m \u001b[0msoup\u001b[0m\u001b[0;34m.\u001b[0m\u001b[0mfind_all\u001b[0m\u001b[0;34m(\u001b[0m\u001b[0;34m'img'\u001b[0m\u001b[0;34m,\u001b[0m \u001b[0mclass_\u001b[0m\u001b[0;34m=\u001b[0m\u001b[0;34m'headerimage fade-in'\u001b[0m\u001b[0;34m)\u001b[0m\u001b[0;34m[\u001b[0m\u001b[0;34m\"src\"\u001b[0m\u001b[0;34m]\u001b[0m\u001b[0;34m\u001b[0m\u001b[0;34m\u001b[0m\u001b[0m\n\u001b[0m\u001b[1;32m      2\u001b[0m \u001b[0mfeatured_image_url\u001b[0m \u001b[0;34m=\u001b[0m \u001b[0murl\u001b[0m \u001b[0;34m+\u001b[0m \u001b[0mrelative_image_path\u001b[0m\u001b[0;34m\u001b[0m\u001b[0;34m\u001b[0m\u001b[0m\n\u001b[1;32m      3\u001b[0m \u001b[0mprint\u001b[0m\u001b[0;34m(\u001b[0m\u001b[0mfeatured_image_url\u001b[0m\u001b[0;34m)\u001b[0m\u001b[0;34m\u001b[0m\u001b[0;34m\u001b[0m\u001b[0m\n\u001b[1;32m      4\u001b[0m \u001b[0;34m\u001b[0m\u001b[0m\n\u001b[1;32m      5\u001b[0m \u001b[0;34m\u001b[0m\u001b[0m\n",
      "\u001b[0;32m~/opt/anaconda3/envs/PythonData/lib/python3.7/site-packages/bs4/element.py\u001b[0m in \u001b[0;36m__getattr__\u001b[0;34m(self, key)\u001b[0m\n\u001b[1;32m   2288\u001b[0m         \u001b[0;34m\"\"\"Raise a helpful exception to explain a common code fix.\"\"\"\u001b[0m\u001b[0;34m\u001b[0m\u001b[0;34m\u001b[0m\u001b[0m\n\u001b[1;32m   2289\u001b[0m         raise AttributeError(\n\u001b[0;32m-> 2290\u001b[0;31m             \u001b[0;34m\"ResultSet object has no attribute '%s'. You're probably treating a list of elements like a single element. Did you call find_all() when you meant to call find()?\"\u001b[0m \u001b[0;34m%\u001b[0m \u001b[0mkey\u001b[0m\u001b[0;34m\u001b[0m\u001b[0;34m\u001b[0m\u001b[0m\n\u001b[0m\u001b[1;32m   2291\u001b[0m         )\n",
      "\u001b[0;31mAttributeError\u001b[0m: ResultSet object has no attribute 'find_all'. You're probably treating a list of elements like a single element. Did you call find_all() when you meant to call find()?"
     ]
    }
   ],
   "source": [
    "relative_image_path = soup.find_all('img', class_='headerimage fade-in')[\"src\"]\n",
    "featured_image_url = url + relative_image_path\n",
    "print(featured_image_url)   \n",
    "\n",
    "\n",
    "\n",
    "# <img class=\"headerimage fade-in\" src=\"image/featured/mars2.jpg\">"
   ]
  },
  {
   "cell_type": "code",
   "execution_count": 104,
   "metadata": {},
   "outputs": [],
   "source": [
    "# Scrape the site and collent the current featured Mars image\n",
    "# results = soup.find_all('a' ,class_='fancybox-thumbs')\n",
    "results = soup.find_all('img' ,class_='headerimage fade-in')\n",
    "\n",
    "# Define a variable to hold the url\n",
    "featured_image_url = []\n",
    "\n",
    "# loop over results to get article data\n",
    "for result in results:\n",
    "    img_url = result.find('src')\n",
    "    featured_image_url.append(url + img_url)\n",
    "    \n",
    "    # print scraped data\n",
    "    print(featured_image_url)\n",
    "    \n",
    "\n",
    "    \n"
   ]
  },
  {
   "cell_type": "markdown",
   "metadata": {},
   "source": [
    "### Mars Facts\n",
    "\n",
    "* Visit the Mars Facts webpage [here](https://galaxyfacts-mars.com) and use Pandas to scrape the table containing facts about the planet including Diameter, Mass, etc.\n",
    "\n",
    "* Use Pandas to convert the data to a HTML table string.\n"
   ]
  },
  {
   "cell_type": "code",
   "execution_count": 33,
   "metadata": {},
   "outputs": [],
   "source": [
    "url = 'https://galaxyfacts-mars.com/'"
   ]
  },
  {
   "cell_type": "code",
   "execution_count": 34,
   "metadata": {},
   "outputs": [
    {
     "data": {
      "text/plain": [
       "[                         0                1                2\n",
       " 0  Mars - Earth Comparison             Mars            Earth\n",
       " 1                Diameter:         6,779 km        12,742 km\n",
       " 2                    Mass:  6.39 × 10^23 kg  5.97 × 10^24 kg\n",
       " 3                   Moons:                2                1\n",
       " 4       Distance from Sun:   227,943,824 km   149,598,262 km\n",
       " 5          Length of Year:   687 Earth days      365.24 days\n",
       " 6             Temperature:     -87 to -5 °C      -88 to 58°C,\n",
       "                       0                              1\n",
       " 0  Equatorial Diameter:                       6,792 km\n",
       " 1       Polar Diameter:                       6,752 km\n",
       " 2                 Mass:  6.39 × 10^23 kg (0.11 Earths)\n",
       " 3                Moons:          2 ( Phobos & Deimos )\n",
       " 4       Orbit Distance:       227,943,824 km (1.38 AU)\n",
       " 5         Orbit Period:           687 days (1.9 years)\n",
       " 6  Surface Temperature:                   -87 to -5 °C\n",
       " 7         First Record:              2nd millennium BC\n",
       " 8          Recorded By:           Egyptian astronomers]"
      ]
     },
     "execution_count": 34,
     "metadata": {},
     "output_type": "execute_result"
    }
   ],
   "source": [
    "tables = pd.read_html(url)\n",
    "tables\n"
   ]
  },
  {
   "cell_type": "code",
   "execution_count": 38,
   "metadata": {},
   "outputs": [
    {
     "data": {
      "text/plain": [
       "2"
      ]
     },
     "execution_count": 38,
     "metadata": {},
     "output_type": "execute_result"
    }
   ],
   "source": [
    "len(tables)"
   ]
  },
  {
   "cell_type": "code",
   "execution_count": 43,
   "metadata": {},
   "outputs": [
    {
     "data": {
      "text/html": [
       "<div>\n",
       "<style scoped>\n",
       "    .dataframe tbody tr th:only-of-type {\n",
       "        vertical-align: middle;\n",
       "    }\n",
       "\n",
       "    .dataframe tbody tr th {\n",
       "        vertical-align: top;\n",
       "    }\n",
       "\n",
       "    .dataframe thead th {\n",
       "        text-align: right;\n",
       "    }\n",
       "</style>\n",
       "<table border=\"1\" class=\"dataframe\">\n",
       "  <thead>\n",
       "    <tr style=\"text-align: right;\">\n",
       "      <th></th>\n",
       "      <th>Mars-Earth Comparison</th>\n",
       "      <th>Mars</th>\n",
       "      <th>Earth</th>\n",
       "    </tr>\n",
       "  </thead>\n",
       "  <tbody>\n",
       "    <tr>\n",
       "      <th>1</th>\n",
       "      <td>Diameter:</td>\n",
       "      <td>6,779 km</td>\n",
       "      <td>12,742 km</td>\n",
       "    </tr>\n",
       "    <tr>\n",
       "      <th>2</th>\n",
       "      <td>Mass:</td>\n",
       "      <td>6.39 × 10^23 kg</td>\n",
       "      <td>5.97 × 10^24 kg</td>\n",
       "    </tr>\n",
       "    <tr>\n",
       "      <th>3</th>\n",
       "      <td>Moons:</td>\n",
       "      <td>2</td>\n",
       "      <td>1</td>\n",
       "    </tr>\n",
       "    <tr>\n",
       "      <th>4</th>\n",
       "      <td>Distance from Sun:</td>\n",
       "      <td>227,943,824 km</td>\n",
       "      <td>149,598,262 km</td>\n",
       "    </tr>\n",
       "    <tr>\n",
       "      <th>5</th>\n",
       "      <td>Length of Year:</td>\n",
       "      <td>687 Earth days</td>\n",
       "      <td>365.24 days</td>\n",
       "    </tr>\n",
       "  </tbody>\n",
       "</table>\n",
       "</div>"
      ],
      "text/plain": [
       "  Mars-Earth Comparison             Mars            Earth\n",
       "1             Diameter:         6,779 km        12,742 km\n",
       "2                 Mass:  6.39 × 10^23 kg  5.97 × 10^24 kg\n",
       "3                Moons:                2                1\n",
       "4    Distance from Sun:   227,943,824 km   149,598,262 km\n",
       "5       Length of Year:   687 Earth days      365.24 days"
      ]
     },
     "execution_count": 43,
     "metadata": {},
     "output_type": "execute_result"
    }
   ],
   "source": [
    "df = tables[0]\n",
    "df.columns = ['Feature', 'Mars', 'Earth']\n",
    "df = df.drop([df.index[0]])\n",
    "df.head()\n"
   ]
  },
  {
   "cell_type": "code",
   "execution_count": 47,
   "metadata": {},
   "outputs": [
    {
     "data": {
      "text/plain": [
       "'<table border=\"1\" class=\"dataframe\">\\n  <thead>\\n    <tr style=\"text-align: right;\">\\n      <th></th>\\n      <th>Mars-Earth Comparison</th>\\n      <th>Mars</th>\\n      <th>Earth</th>\\n    </tr>\\n  </thead>\\n  <tbody>\\n    <tr>\\n      <th>1</th>\\n      <td>Diameter:</td>\\n      <td>6,779 km</td>\\n      <td>12,742 km</td>\\n    </tr>\\n    <tr>\\n      <th>2</th>\\n      <td>Mass:</td>\\n      <td>6.39 × 10^23 kg</td>\\n      <td>5.97 × 10^24 kg</td>\\n    </tr>\\n    <tr>\\n      <th>3</th>\\n      <td>Moons:</td>\\n      <td>2</td>\\n      <td>1</td>\\n    </tr>\\n    <tr>\\n      <th>4</th>\\n      <td>Distance from Sun:</td>\\n      <td>227,943,824 km</td>\\n      <td>149,598,262 km</td>\\n    </tr>\\n    <tr>\\n      <th>5</th>\\n      <td>Length of Year:</td>\\n      <td>687 Earth days</td>\\n      <td>365.24 days</td>\\n    </tr>\\n    <tr>\\n      <th>6</th>\\n      <td>Temperature:</td>\\n      <td>-87 to -5 °C</td>\\n      <td>-88 to 58°C</td>\\n    </tr>\\n  </tbody>\\n</table>'"
      ]
     },
     "execution_count": 47,
     "metadata": {},
     "output_type": "execute_result"
    }
   ],
   "source": [
    "html_table = df.to_html()\n",
    "html_table"
   ]
  },
  {
   "cell_type": "markdown",
   "metadata": {},
   "source": [
    "### Mars Hemispheres\n",
    "\n",
    "* Visit the astrogeology site [here](https://marshemispheres.com/) to obtain high resolution images for each of Mar's hemispheres.\n",
    "\n",
    "* You will need to click each of the links to the hemispheres in order to find the image url to the full resolution image.\n",
    "\n",
    "* Save both the image url string for the full resolution hemisphere image, and the Hemisphere title containing the hemisphere name. Use a Python dictionary to store the data using the keys `img_url` and `title`.\n",
    "\n",
    "* Append the dictionary with the image url string and the hemisphere title to a list. This list will contain one dictionary for each hemisphere.\n",
    "\n",
    "```python\n",
    "# Example:\n",
    "hemisphere_image_urls = [\n",
    "    {\"title\": \"Valles Marineris Hemisphere\", \"img_url\": \"...\"},\n",
    "    {\"title\": \"Cerberus Hemisphere\", \"img_url\": \"...\"},\n",
    "    {\"title\": \"Schiaparelli Hemisphere\", \"img_url\": \"...\"},\n",
    "    {\"title\": \"Syrtis Major Hemisphere\", \"img_url\": \"...\"},\n",
    "]\n",
    "```\n"
   ]
  },
  {
   "cell_type": "code",
   "execution_count": 53,
   "metadata": {},
   "outputs": [],
   "source": [
    "# URL of page to be scraped\n",
    "url = 'https://marshemispheres.com/'\n"
   ]
  },
  {
   "cell_type": "code",
   "execution_count": 54,
   "metadata": {},
   "outputs": [
    {
     "data": {
      "text/plain": [
       "<Response [200]>"
      ]
     },
     "execution_count": 54,
     "metadata": {},
     "output_type": "execute_result"
    }
   ],
   "source": [
    "# Retrieve page with the requests module\n",
    "response = requests.get(url)\n",
    "response\n"
   ]
  },
  {
   "cell_type": "code",
   "execution_count": 55,
   "metadata": {},
   "outputs": [],
   "source": [
    "# Create BeautifulSoup object; parse with 'lxml'\n",
    "results = soup(response.text, 'lxml')\n"
   ]
  },
  {
   "cell_type": "code",
   "execution_count": 61,
   "metadata": {},
   "outputs": [
    {
     "data": {
      "text/plain": [
       "4"
      ]
     },
     "execution_count": 61,
     "metadata": {},
     "output_type": "execute_result"
    }
   ],
   "source": [
    "# Retrieve the parent divs for all articles\n",
    "items = soup.find_all('div', class_='item')\n",
    "len(items)"
   ]
  },
  {
   "cell_type": "code",
   "execution_count": 79,
   "metadata": {},
   "outputs": [
    {
     "name": "stdout",
     "output_type": "stream",
     "text": [
      "<h3>Cerberus Hemisphere Enhanced</h3>\n",
      "images/39d3266553462198bd2fbc4d18fbed17_cerberus_enhanced.tif_thumb.png\n",
      "-----------------\n",
      "<h3>Schiaparelli Hemisphere Enhanced</h3>\n",
      "images/08eac6e22c07fb1fe72223a79252de20_schiaparelli_enhanced.tif_thumb.png\n",
      "-----------------\n",
      "<h3>Syrtis Major Hemisphere Enhanced</h3>\n",
      "images/55a0a1e2796313fdeafb17c35925e8ac_syrtis_major_enhanced.tif_thumb.png\n",
      "-----------------\n",
      "<h3>Valles Marineris Hemisphere Enhanced</h3>\n",
      "images/4e59980c1c57f89c680c0e1ccabbeff1_valles_marineris_enhanced.tif_thumb.png\n",
      "-----------------\n"
     ]
    }
   ],
   "source": [
    "# Create dictionary to hold image results\n",
    "hemisphere_image_urls = []\n",
    "\n",
    "# Retrieve the parent divs for all articles\n",
    "results = soup.find_all('div', class_='item')\n",
    "\n",
    "# loop over results to get article data\n",
    "for result in results:\n",
    "    # scrape the article header \n",
    "    title = result.find('h3')\n",
    "    img_url = result.find('img', class_='thumb')['src']\n",
    "    hemisphere_image_urls.append({'title': title,'image_url': img_url})\n",
    "    \n",
    "    # print scraped data\n",
    "    print(title)\n",
    "    print(img_url)\n",
    "    print('-----------------')\n",
    "\n"
   ]
  },
  {
   "cell_type": "code",
   "execution_count": 80,
   "metadata": {},
   "outputs": [
    {
     "name": "stdout",
     "output_type": "stream",
     "text": [
      "[{'title': <h3>Cerberus Hemisphere Enhanced</h3>, 'image_url': 'images/39d3266553462198bd2fbc4d18fbed17_cerberus_enhanced.tif_thumb.png'}, {'title': <h3>Schiaparelli Hemisphere Enhanced</h3>, 'image_url': 'images/08eac6e22c07fb1fe72223a79252de20_schiaparelli_enhanced.tif_thumb.png'}, {'title': <h3>Syrtis Major Hemisphere Enhanced</h3>, 'image_url': 'images/55a0a1e2796313fdeafb17c35925e8ac_syrtis_major_enhanced.tif_thumb.png'}, {'title': <h3>Valles Marineris Hemisphere Enhanced</h3>, 'image_url': 'images/4e59980c1c57f89c680c0e1ccabbeff1_valles_marineris_enhanced.tif_thumb.png'}]\n"
     ]
    }
   ],
   "source": [
    "# Create dictionary to hold image results\n",
    "print(hemisphere_image_urls)\n"
   ]
  },
  {
   "cell_type": "code",
   "execution_count": null,
   "metadata": {},
   "outputs": [],
   "source": [
    "browser.quit()"
   ]
  },
  {
   "cell_type": "code",
   "execution_count": null,
   "metadata": {},
   "outputs": [],
   "source": []
  }
 ],
 "metadata": {
  "kernelspec": {
   "display_name": "PythonData",
   "language": "python",
   "name": "pythondata"
  },
  "language_info": {
   "codemirror_mode": {
    "name": "ipython",
    "version": 3
   },
   "file_extension": ".py",
   "mimetype": "text/x-python",
   "name": "python",
   "nbconvert_exporter": "python",
   "pygments_lexer": "ipython3",
   "version": "3.7.13"
  }
 },
 "nbformat": 4,
 "nbformat_minor": 4
}
